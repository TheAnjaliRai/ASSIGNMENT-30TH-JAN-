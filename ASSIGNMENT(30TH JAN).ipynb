{
 "cells": [
  {
   "cell_type": "code",
   "execution_count": 1,
   "id": "aee33a64",
   "metadata": {},
   "outputs": [
    {
     "name": "stdout",
     "output_type": "stream",
     "text": [
      "enter you percentage25\n",
      "D\n"
     ]
    }
   ],
   "source": [
    "#ques1\n",
    "i=int(input(\"enter your percentage\"))\n",
    "if i>90:\n",
    "    grade = 'A'\n",
    "elif i>80 and i<=90:\n",
    "    grade = 'B'\n",
    "elif i>60 and i<=80:\n",
    "    grade = 'C'\n",
    "else:\n",
    "    grade = 'D'\n",
    "print(grade)"
   ]
  },
  {
   "cell_type": "code",
   "execution_count": 4,
   "id": "22041f6a",
   "metadata": {},
   "outputs": [
    {
     "name": "stdout",
     "output_type": "stream",
     "text": [
      "enter cost price50000\n",
      "5 %\n"
     ]
    }
   ],
   "source": [
    "#ques2\n",
    "cost=int(input(\"enter cost price\"))\n",
    "if i>100000:\n",
    "    tax = 15\n",
    "elif i>50000 and i<=100000:\n",
    "    tax = 10\n",
    "else:\n",
    "    tax = 5\n",
    "\n",
    "print(tax,'%')"
   ]
  },
  {
   "cell_type": "code",
   "execution_count": 5,
   "id": "877bbf9f",
   "metadata": {},
   "outputs": [
    {
     "name": "stdout",
     "output_type": "stream",
     "text": [
      "enter any cityDelhi\n",
      "Red Fort\n"
     ]
    }
   ],
   "source": [
    "#ques3\n",
    "city=input(\"enter any city\")\n",
    "if city.lower()==\"delhi\":\n",
    "    monument=\"Red Fort\"\n",
    "elif city.lower()==\"agra\":\n",
    "    monument==\"Taj Mahal\"\n",
    "elif city.lower()==\"jaipur\":\n",
    "    monument=\"Jal Mahal\"\n",
    "else:\n",
    "    monument== \"not available\"\n",
    "print(monument)"
   ]
  },
  {
   "cell_type": "code",
   "execution_count": 12,
   "id": "ce3add04",
   "metadata": {
    "scrolled": true
   },
   "outputs": [
    {
     "name": "stdout",
     "output_type": "stream",
     "text": [
      "enter a number125\n",
      "2\n"
     ]
    }
   ],
   "source": [
    "# ques4\n",
    "times = 0\n",
    "num = int(input(\"enter a number\"))\n",
    "while(num/3>10):\n",
    "        times += 1\n",
    "        num = num/3\n",
    "\n",
    "\n",
    "print(times)"
   ]
  },
  {
   "cell_type": "code",
   "execution_count": null,
   "id": "d76cad5a",
   "metadata": {},
   "outputs": [],
   "source": [
    "#ques5 while loop is used when we are unaware of the number of times loop is going to run "
   ]
  },
  {
   "cell_type": "code",
   "execution_count": null,
   "id": "ecbec759",
   "metadata": {},
   "outputs": [],
   "source": [
    "#fibonacci series\n",
    "n = int(input(\"enter the number\"))\n",
    "counter = 0\n",
    "a,b = 0 ,1\n",
    "while counter < n:\n",
    "    print(a)\n",
    "    c = a + b\n",
    "    a = b\n",
    "    b = c\n",
    "    counter = counter + 1"
   ]
  },
  {
   "cell_type": "code",
   "execution_count": 20,
   "id": "0351b7ed",
   "metadata": {
    "scrolled": true
   },
   "outputs": [
    {
     "name": "stdout",
     "output_type": "stream",
     "text": [
      "* * * * * \n",
      "* * * * \n",
      "* * * \n",
      "* * \n",
      "* \n"
     ]
    }
   ],
   "source": [
    "# ques6\n",
    "# pattern 1\n",
    "i=1\n",
    "while(i<=5):\n",
    "    j=5\n",
    "    while(j>=i):\n",
    "        print(\"*\" ,end=\" \")\n",
    "        j-=1\n",
    "    print( )\n",
    "    i+=1"
   ]
  },
  {
   "cell_type": "code",
   "execution_count": 21,
   "id": "8b855d21",
   "metadata": {},
   "outputs": [
    {
     "name": "stdout",
     "output_type": "stream",
     "text": [
      "* \n",
      "* * \n",
      "* * * \n",
      "* * * * \n",
      "* * * * * \n"
     ]
    }
   ],
   "source": [
    "i=1\n",
    "while(i<=5):\n",
    "    j=1\n",
    "    while(j<=i):\n",
    "        print(\"*\" ,end=\" \")\n",
    "        j+=1\n",
    "    print( )\n",
    "    i+=1"
   ]
  },
  {
   "cell_type": "code",
   "execution_count": 23,
   "id": "aba8e218",
   "metadata": {},
   "outputs": [
    {
     "name": "stdout",
     "output_type": "stream",
     "text": [
      "1 \n",
      "1 2 \n",
      "1 2 3 \n",
      "1 2 3 4 \n",
      "1 2 3 4 5 \n"
     ]
    }
   ],
   "source": [
    "i=1\n",
    "while(i<=5):\n",
    "    j=1\n",
    "    while(j<=i):\n",
    "        print(j ,end=\" \")\n",
    "        j+=1\n",
    "    print( )\n",
    "    i+=1"
   ]
  },
  {
   "cell_type": "code",
   "execution_count": 24,
   "id": "18980215",
   "metadata": {},
   "outputs": [
    {
     "name": "stdout",
     "output_type": "stream",
     "text": [
      "10\n",
      "9\n",
      "8\n",
      "7\n",
      "6\n",
      "5\n",
      "4\n",
      "3\n",
      "2\n",
      "1\n"
     ]
    }
   ],
   "source": [
    "#ques7\n",
    "num = 10\n",
    "while(num>=1):\n",
    "    print(num)\n",
    "    num -= 1"
   ]
  },
  {
   "cell_type": "code",
   "execution_count": 25,
   "id": "9e52cb0f",
   "metadata": {},
   "outputs": [
    {
     "name": "stdout",
     "output_type": "stream",
     "text": [
      "10\n",
      "9\n",
      "8\n",
      "7\n",
      "6\n",
      "5\n",
      "4\n",
      "3\n",
      "2\n",
      "1\n"
     ]
    }
   ],
   "source": [
    "#ques8\n",
    "num = 10\n",
    "while(num>=1):\n",
    "    print(num)\n",
    "    num -= 1"
   ]
  },
  {
   "cell_type": "code",
   "execution_count": null,
   "id": "3b5c2b5b",
   "metadata": {},
   "outputs": [],
   "source": []
  }
 ],
 "metadata": {
  "kernelspec": {
   "display_name": "Python 3 (ipykernel)",
   "language": "python",
   "name": "python3"
  },
  "language_info": {
   "codemirror_mode": {
    "name": "ipython",
    "version": 3
   },
   "file_extension": ".py",
   "mimetype": "text/x-python",
   "name": "python",
   "nbconvert_exporter": "python",
   "pygments_lexer": "ipython3",
   "version": "3.9.12"
  }
 },
 "nbformat": 4,
 "nbformat_minor": 5
}
